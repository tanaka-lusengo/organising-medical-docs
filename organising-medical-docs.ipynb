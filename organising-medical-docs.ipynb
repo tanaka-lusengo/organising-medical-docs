{
 "cells": [
  {
   "cell_type": "markdown",
   "id": "adb2307c-b472-49f9-a630-7ff34483e7bc",
   "metadata": {},
   "source": [
    "![electronic_medical_records](./images/electronic_medical_records.png)\n",
    "\n",
    "## Brief\n",
    "\n",
    "Medical professionals often document patient encounters in natural language transcripts, detailing symptoms, diagnoses, and treatments. While these transcripts are essential for medical documentation, including insurance claims, extracting key information from them can be difficult due to the dense medical content.\n",
    "\n",
    "To address this challenge, your team at Lakeside Healthcare Network aims to utilise the OpenAI API to automatically extract relevant medical data from these transcripts and match it with the corresponding ICD-10 codes. ICD-10 codes are a globally recognised system used for diagnosis and billing, particularly in insurance claim processing.\n",
    "\n",
    "## The Data\n",
    "The dataset contains anonymised medical transcriptions categorised by specialty.\n",
    "\n",
    "## transcriptions.csv\n",
    "| Column     | Description              |\n",
    "|------------|--------------------------|\n",
    "| `\"medical_specialty\"` | The medical specialty associated with each transcription.  |\n",
    "| `\"transcription\"` | Detailed medical transcription texts, with insights into the medical case. |"
   ]
  },
  {
   "cell_type": "code",
   "execution_count": null,
   "id": "e8e08036-f207-45b9-94c2-a79b3795dcd6",
   "metadata": {
    "executionCancelledAt": null,
    "executionTime": 53,
    "lastExecutedAt": 1731881372724,
    "lastExecutedByKernel": "d59c4702-b5b6-4e08-b479-1bdd99b50329",
    "lastScheduledRunId": null,
    "lastSuccessfullyExecutedCode": "# Import the necessary libraries\nimport pandas as pd\nfrom openai import OpenAI\nimport uuid\nimport json\nimport os"
   },
   "outputs": [],
   "source": [
    "# Import the necessary libraries\n",
    "import pandas as pd\n",
    "import uuid\n",
    "import json\n",
    "import os\n",
    "\n",
    "from tabulate import tabulate\n",
    "from openai import OpenAI\n",
    "from dotenv import load_dotenv"
   ]
  },
  {
   "cell_type": "code",
   "execution_count": 2,
   "id": "c9e68c79-7c65-4ce4-88d6-b770f6abe295",
   "metadata": {
    "chartConfig": {
     "bar": {
      "hasRoundedCorners": true,
      "stacked": false
     },
     "type": "bar",
     "version": "v1"
    },
    "executionCancelledAt": null,
    "executionTime": 48,
    "lastExecutedAt": 1731881372772,
    "lastExecutedByKernel": "d59c4702-b5b6-4e08-b479-1bdd99b50329",
    "lastScheduledRunId": null,
    "lastSuccessfullyExecutedCode": "# Load the data\ntranscriptions_df = pd.read_csv(\"data/transcriptions.csv\")\ntranscriptions_df.head()",
    "outputsMetadata": {
     "0": {
      "height": 222,
      "type": "dataFrame"
     }
    },
    "visualizeDataframe": false
   },
   "outputs": [
    {
     "data": {
      "text/html": [
       "<div>\n",
       "<style scoped>\n",
       "    .dataframe tbody tr th:only-of-type {\n",
       "        vertical-align: middle;\n",
       "    }\n",
       "\n",
       "    .dataframe tbody tr th {\n",
       "        vertical-align: top;\n",
       "    }\n",
       "\n",
       "    .dataframe thead th {\n",
       "        text-align: right;\n",
       "    }\n",
       "</style>\n",
       "<table border=\"1\" class=\"dataframe\">\n",
       "  <thead>\n",
       "    <tr style=\"text-align: right;\">\n",
       "      <th></th>\n",
       "      <th>medical_specialty</th>\n",
       "      <th>transcription</th>\n",
       "    </tr>\n",
       "  </thead>\n",
       "  <tbody>\n",
       "    <tr>\n",
       "      <th>0</th>\n",
       "      <td>Allergy / Immunology</td>\n",
       "      <td>SUBJECTIVE:,  This 23-year-old white female pr...</td>\n",
       "    </tr>\n",
       "    <tr>\n",
       "      <th>1</th>\n",
       "      <td>Orthopedic</td>\n",
       "      <td>CHIEF COMPLAINT:,  Achilles ruptured tendon.,H...</td>\n",
       "    </tr>\n",
       "    <tr>\n",
       "      <th>2</th>\n",
       "      <td>Bariatrics</td>\n",
       "      <td>PREOPERATIVE DIAGNOSIS: , Morbid obesity.,POST...</td>\n",
       "    </tr>\n",
       "    <tr>\n",
       "      <th>3</th>\n",
       "      <td>Cardiovascular / Pulmonary</td>\n",
       "      <td>PREOPERATIVE DIAGNOSES,Airway obstruction seco...</td>\n",
       "    </tr>\n",
       "    <tr>\n",
       "      <th>4</th>\n",
       "      <td>Urology</td>\n",
       "      <td>CHIEF COMPLAINT:,  Urinary retention.,HISTORY ...</td>\n",
       "    </tr>\n",
       "  </tbody>\n",
       "</table>\n",
       "</div>"
      ],
      "text/plain": [
       "            medical_specialty  \\\n",
       "0        Allergy / Immunology   \n",
       "1                  Orthopedic   \n",
       "2                  Bariatrics   \n",
       "3  Cardiovascular / Pulmonary   \n",
       "4                     Urology   \n",
       "\n",
       "                                       transcription  \n",
       "0  SUBJECTIVE:,  This 23-year-old white female pr...  \n",
       "1  CHIEF COMPLAINT:,  Achilles ruptured tendon.,H...  \n",
       "2  PREOPERATIVE DIAGNOSIS: , Morbid obesity.,POST...  \n",
       "3  PREOPERATIVE DIAGNOSES,Airway obstruction seco...  \n",
       "4  CHIEF COMPLAINT:,  Urinary retention.,HISTORY ...  "
      ]
     },
     "execution_count": 2,
     "metadata": {},
     "output_type": "execute_result"
    }
   ],
   "source": [
    "# Load the data\n",
    "transcriptions_df = pd.read_csv(\"data/transcriptions.csv\")\n",
    "transcriptions_df.head()"
   ]
  },
  {
   "cell_type": "code",
   "execution_count": 3,
   "id": "8b2fa6e5-0c99-4f95-8f49-7042341250b3",
   "metadata": {
    "executionCancelledAt": null,
    "executionTime": 52,
    "lastExecutedAt": 1731881372824,
    "lastExecutedByKernel": "d59c4702-b5b6-4e08-b479-1bdd99b50329",
    "lastScheduledRunId": null,
    "lastSuccessfullyExecutedCode": "# Overview of Dataset information and data types\n\ntranscriptions_df.info() ",
    "outputsMetadata": {
     "0": {
      "height": 206,
      "type": "stream"
     }
    }
   },
   "outputs": [
    {
     "name": "stdout",
     "output_type": "stream",
     "text": [
      "<class 'pandas.core.frame.DataFrame'>\n",
      "RangeIndex: 5 entries, 0 to 4\n",
      "Data columns (total 2 columns):\n",
      " #   Column             Non-Null Count  Dtype \n",
      "---  ------             --------------  ----- \n",
      " 0   medical_specialty  5 non-null      object\n",
      " 1   transcription      5 non-null      object\n",
      "dtypes: object(2)\n",
      "memory usage: 208.0+ bytes\n"
     ]
    }
   ],
   "source": [
    "# Overview of Dataset information and data types\n",
    "\n",
    "transcriptions_df.info() "
   ]
  },
  {
   "cell_type": "markdown",
   "id": "0f507274-8f12-46cc-950a-67d2f8a9f123",
   "metadata": {},
   "source": [
    "### Define the OpenAI Client"
   ]
  },
  {
   "cell_type": "code",
   "execution_count": 4,
   "id": "c623b961-8959-495b-a06a-4dfcbd80d802",
   "metadata": {
    "executionCancelledAt": null,
    "executionTime": 52,
    "lastExecutedAt": 1731881372876,
    "lastExecutedByKernel": "d59c4702-b5b6-4e08-b479-1bdd99b50329",
    "lastScheduledRunId": null,
    "lastSuccessfullyExecutedCode": "# Define the model to use\nmodel = \"gpt-4o-mini\"\n\n# Define the client\nclient = OpenAI(api_key=os.environ[\"OPENAI\"], \n                organization=os.environ[\"OPENAI_ORG_ID\"])"
   },
   "outputs": [],
   "source": [
    "# Define the model to use\n",
    "model = \"gpt-4o-mini\"\n",
    "\n",
    "load_dotenv()\n",
    "\n",
    "# Define the client\n",
    "api_key = os.getenv(\"OPENAI_API_KEY\")\n",
    "organization_id = os.getenv('OPENAI_ORG_ID')\n",
    "project_id = os.getenv('OPENAI_PROJ_ID')\n",
    "\n",
    "client = OpenAI(\n",
    "    api_key=api_key,\n",
    "    organization=organization_id,\n",
    "    project=project_id,\n",
    ")"
   ]
  },
  {
   "cell_type": "markdown",
   "id": "dcf86cfc-3bb7-4495-8253-1db8d66c7f95",
   "metadata": {},
   "source": [
    "### Define the `system_prompt` content to set the context for the AI medical assistant"
   ]
  },
  {
   "cell_type": "code",
   "execution_count": null,
   "id": "896a134d-52ce-49b5-b7da-1c0ddc625155",
   "metadata": {
    "executionCancelledAt": null,
    "executionTime": 52,
    "lastExecutedAt": 1731881372928,
    "lastExecutedByKernel": "d59c4702-b5b6-4e08-b479-1bdd99b50329",
    "lastScheduledRunId": null,
    "lastSuccessfullyExecutedCode": "# Base guideline for the AI-powered medical assistant chatbot\nbase_system_prompt = \"\"\"\nAct as a healthcare professional.\nYour task is to extract the 'age' and 'recommended treatment' from a given medical record transcript. Follow these strict rules:\n- Always extract the age as a standalone number, with no additional text, units, or formatting (e.g., 23).\n- If the age is mentioned in formats like 'XX-year-old', extract only the number 'XX'.\n- If the age is given indirectly (e.g., birth year), convert it to the current age using the current year.\n- If the age cannot be determined, return 'Not Found'.\n\nFor the 'recommended treatment', extract the treatment description verbatim. If no treatment is mentioned, return 'Not Found'.\n\"\"\"\n\n# Response guidelines\nresponse_guidelines = \"\"\"\nResponse guidelines:\n- Format your response as: 'Age: [age], Recommended Treatment: [treatment]'.\n- Only provide direct responses as per the extraction rules.\n\"\"\"\n\n# Example text to guide the extraction of age-related information\nexample = \"\"\"\nExamples of age extraction:\n- Input: '23-year-old'\n  Output: '23'\n- Input: 'born in 1980'\n  Output: '44' (assuming the current year is 2024)\n- Input: 'Patient's age at diagnosis: 35 years'\n  Output: '35'\n- Input: 'The patient is in their mid-30s'\n  Output: 'Not Found'\n\"\"\"\n\n# Combine all parts to form the final system prompt\nsystem_prompt = base_system_prompt + response_guidelines + example\n\n# Define the conversation flow for the chatbot system\n# Initialize the conversation with a system message that sets the context\ndef generate_response_messages(transcription):  \n    return [{\"role\": \"system\", \"content\": system_prompt},\n            {\"role\": \"user\", \"content\": f\"Return the age and recommended treatment for the patients from the body of the following transcription: {transcription}.\"}]"
   },
   "outputs": [],
   "source": [
    "# Base guideline for the AI-powered medical assistant chatbot\n",
    "base_system_prompt = \"\"\"\n",
    "Act as a healthcare professional.\n",
    "Your task is to extract the 'age' and 'recommended treatment' from a given medical record transcript. Follow these strict rules:\n",
    "- Always extract the age as a standalone number, with no additional text, units, or formatting (e.g., 23).\n",
    "- If the age is mentioned in formats like 'XX-year-old', extract only the number 'XX'.\n",
    "- If the age is given indirectly (e.g., birth year), convert it to the current age using the current year.\n",
    "- If the age cannot be determined, return 'Not Found'.\n",
    "\n",
    "For the 'recommended treatment', extract the treatment description verbatim. If no treatment is mentioned, return 'Not Found'.\n",
    "\"\"\"\n",
    "\n",
    "# Response guidelines\n",
    "response_guidelines = \"\"\"\n",
    "Response guidelines:\n",
    "- Format your response as: 'Age: [age], Recommended Treatment: [treatment]'.\n",
    "- Only provide direct responses as per the extraction rules.\n",
    "\"\"\"\n",
    "\n",
    "# Example text to guide the extraction of age-related information\n",
    "example = \"\"\"\n",
    "Examples of age extraction:\n",
    "- Input: '23-year-old'\n",
    "  Output: '23'\n",
    "- Input: 'born in 1980'\n",
    "  Output: '44' (assuming the current year is 2024)\n",
    "- Input: 'Patient's age at diagnosis: 35 years'\n",
    "  Output: '35'\n",
    "- Input: 'The patient is in their mid-30s'\n",
    "  Output: 'Not Found'\n",
    "\"\"\"\n",
    "\n",
    "# Combine all parts to form the final system prompt\n",
    "system_prompt = base_system_prompt + response_guidelines + example\n",
    "\n",
    "# Define the conversation flow for the chatbot system\n",
    "# Initialise the conversation with a system message that sets the context\n",
    "def generate_response_messages(transcription):  \n",
    "    return [{\"role\": \"system\", \"content\": system_prompt},\n",
    "            {\"role\": \"user\", \"content\": f\"Return the age and recommended treatment for the patients from the body of the following transcription: {transcription}.\"}]"
   ]
  },
  {
   "cell_type": "markdown",
   "id": "b551d607-c69c-4806-9295-99b7a29e1f3f",
   "metadata": {},
   "source": [
    "### Define the `function_definitions` with their respective parameters and descriptions"
   ]
  },
  {
   "cell_type": "code",
   "execution_count": 6,
   "id": "7cdbadfc-9576-4f83-bfae-e3262dd37093",
   "metadata": {
    "executionCancelledAt": null,
    "executionTime": 48,
    "lastExecutedAt": 1731881372976,
    "lastExecutedByKernel": "d59c4702-b5b6-4e08-b479-1bdd99b50329",
    "lastScheduledRunId": null,
    "lastSuccessfullyExecutedCode": "function_definition = [(\n    {\n        'type': 'function',\n        'function': {\n            'name': 'extract_medical_info',\n            'description': 'Get the age and recommended treatment from the input text. Always return both age and recommended treatment. If any of the fields is missing in the transcript, return Not Found.',\n            'parameters': {\n                'type': 'object',\n                'properties': {\n                    'age': {\n                        'type': 'string',\n                        'description': 'Age of the patient'\n                    },\n                    'recommended_treatment': {\n                        'type': 'string',\n                        'description': 'The recommended treatment for the patient'\n                    }\n                }\n            }\n        }\n    }\n)]"
   },
   "outputs": [],
   "source": [
    "function_definition = [(\n",
    "    {\n",
    "        'type': 'function',\n",
    "        'function': {\n",
    "            'name': 'extract_medical_info',\n",
    "            'description': 'Get the age and recommended treatment from the input text. Always return both age and recommended treatment. If any of the fields is missing in the transcript, return Not Found.',\n",
    "            'parameters': {\n",
    "                'type': 'object',\n",
    "                'properties': {\n",
    "                    'age': {\n",
    "                        'type': 'string',\n",
    "                        'description': 'Age of the patient'\n",
    "                    },\n",
    "                    'recommended_treatment': {\n",
    "                        'type': 'string',\n",
    "                        'description': 'The recommended treatment for the patient'\n",
    "                    }\n",
    "                }\n",
    "            }\n",
    "        }\n",
    "    }\n",
    ")]"
   ]
  },
  {
   "cell_type": "markdown",
   "id": "a4aa9f15-ec9b-4eb9-8f77-1d641405b216",
   "metadata": {},
   "source": [
    "### Define function to retrieve ai responses"
   ]
  },
  {
   "cell_type": "code",
   "execution_count": null,
   "id": "0852ff67-a891-4c7d-8340-1a22b5cc26bb",
   "metadata": {
    "executionCancelledAt": null,
    "executionTime": 52,
    "lastExecutedAt": 1731881373028,
    "lastExecutedByKernel": "d59c4702-b5b6-4e08-b479-1bdd99b50329",
    "lastScheduledRunId": null,
    "lastSuccessfullyExecutedCode": "\n# Generate a unique ID\nunique_id = str(uuid.uuid4())\n\n# Create a response using the AI assistant\ndef get_response(transcription):\n    response = client.chat.completions.create(\n        model=model,\n        messages=generate_response_messages(transcription),\n        tools=function_definition,\n        user=unique_id\n\n    )\n    return json.loads(response.choices[0].message.tool_calls[0].function.arguments)"
   },
   "outputs": [],
   "source": [
    "\n",
    "# Generate a unique ID\n",
    "unique_id = str(uuid.uuid4())\n",
    "\n",
    "# Create a response using the AI assistant\n",
    "def get_response(transcription):\n",
    "    response = client.chat.completions.create(\n",
    "        model=model,\n",
    "        messages=generate_response_messages(transcription),\n",
    "        tools=function_definition,\n",
    "        user=unique_id\n",
    "\n",
    "    )\n",
    "    # Check if the response indicates a tool call\n",
    "    if response.choices[0].finish_reason == 'tool_calls':\n",
    "        # Extract the function call details\n",
    "        function_call = response.choices[0].message.tool_calls[0].function\n",
    "        # Check the function name\n",
    "        if function_call.name == 'extract_medical_info':\n",
    "           return json.loads(function_call.arguments)\n",
    "        else:\n",
    "            print(\"I am sorry, but I could extract the medical info.\")\n",
    "    else:\n",
    "       print(\"I am sorry, but I could not understand your request.\")\n",
    "    "
   ]
  },
  {
   "cell_type": "code",
   "execution_count": null,
   "id": "f134b1f0-b6dc-4cc2-b9ad-798a45f82238",
   "metadata": {
    "executionCancelledAt": null,
    "executionTime": 52,
    "lastExecutedAt": 1731881373080,
    "lastExecutedByKernel": "d59c4702-b5b6-4e08-b479-1bdd99b50329",
    "lastScheduledRunId": null,
    "lastSuccessfullyExecutedCode": "# Define the messages argument for the `match_icd_codes` function\n\ndef generate_icd_messages_input(treatment):\n    example_structure = f\"\"\"\n    1. ICD Code: XXX. Description: XXX.\n    2. ICD Code: XXX. Description: XXX.\n    3. ICD Code: XXX. Description: XXX.\n    \"\"\"\n    \n    content = f\"\"\"Provide the ICD codes for the following treatment or procedure: {treatment}. \n    Return the answer as a list of codes with a concise corresponding definition with the format:\n    {example_structure}\n    \"\"\"\n    \n    return [{\"role\": \"user\", \"content\": content}]"
   },
   "outputs": [],
   "source": [
    "# Define the messages argument for the `match_icd_codes` function\n",
    "def generate_icd_messages_input(treatment):\n",
    "    example_structure = f\"\"\"\n",
    "    1. ICD Code: XXX. Description: XXX.\n",
    "    2. ICD Code: XXX. Description: XXX.\n",
    "    3. ICD Code: XXX. Description: XXX.\n",
    "    \"\"\"\n",
    "    \n",
    "    content = f\"\"\"Provide the ICD codes for the following treatment or procedure: {treatment}. \n",
    "    Return the answer as a list of codes with a concise corresponding definition with the format:\n",
    "    {example_structure}\n",
    "    \"\"\"\n",
    "    \n",
    "    return [{\"role\": \"user\", \"content\": content}]"
   ]
  },
  {
   "cell_type": "code",
   "execution_count": null,
   "id": "3d74eae6-ef46-475c-966c-ec9ec449b8c0",
   "metadata": {
    "executionCancelledAt": null,
    "executionTime": 51,
    "lastExecutedAt": 1731881373132,
    "lastExecutedByKernel": "d59c4702-b5b6-4e08-b479-1bdd99b50329",
    "lastScheduledRunId": null,
    "lastSuccessfullyExecutedCode": "# Define function to extract age and recommended treatment/procedure\ndef match_icd_codes(treatment):\n    \"\"\"Retrieves ICD codes for a given treatment using OpenAI.\"\"\"\n    response = client.chat.completions.create(\n        model=model,\n        messages=generate_icd_messages_input(treatment),\n        temperature=0.3\n    )\n    return response.choices[0].message.content\n    "
   },
   "outputs": [],
   "source": [
    "# Define function to extract age and recommended treatment/procedure\n",
    "def match_icd_codes(treatment):\n",
    "    \"\"\"Retrieves ICD codes for a given treatment using OpenAI.\"\"\"\n",
    "    response = client.chat.completions.create(\n",
    "        model=model,\n",
    "        messages=generate_icd_messages_input(treatment),\n",
    "        temperature=0.2,\n",
    "        user=unique_id\n",
    "    )\n",
    "    return response.choices[0].message.content\n",
    "    "
   ]
  },
  {
   "cell_type": "code",
   "execution_count": 10,
   "id": "f0403734-6206-4a8f-9cc8-7f4ba344e9e6",
   "metadata": {
    "executionCancelledAt": null,
    "executionTime": 22918,
    "lastExecutedAt": 1731881396050,
    "lastExecutedByKernel": "d59c4702-b5b6-4e08-b479-1bdd99b50329",
    "lastScheduledRunId": null,
    "lastSuccessfullyExecutedCode": "# Start an empty list to store processed data\nprocessed_data = []\n\nfor index, row in transcriptions_df.iterrows():\n    transcription = row['transcription']\n    medical_specialty = row['medical_specialty']\n    \n    response_data = get_response(transcription)\n    \n    recommended_treatment = response_data[\"recommended_treatment\"]\n    \n    # Retrieve the ICD codes\n    ice_code = match_icd_codes(recommended_treatment)\n    \n    response_data[\"medical_specialty\"] = medical_specialty\n    response_data[\"icd_code\"] = icd_code\n    \n    print(json.dumps(response_data, indent=2))\n\n    # Append the extracted information as a new row in the list\n    processed_data.append(response_data)\n",
    "outputsMetadata": {
     "0": {
      "height": 616,
      "type": "stream"
     }
    }
   },
   "outputs": [
    {
     "name": "stdout",
     "output_type": "stream",
     "text": [
      "{\n",
      "  \"age\": \"23\",\n",
      "  \"recommended_treatment\": \"She will try Zyrtec instead of Allegra again. Another option will be to use loratadine. Samples of Nasonex two sprays in each nostril given for three weeks. A prescription was written as well.\",\n",
      "  \"medical_specialty\": \"Allergy or Immunology\",\n",
      "  \"icd_code\": \"Here are the relevant ICD codes based on the treatment and procedures described:\\n\\n1. ICD Code: J30.9. Description: Allergic rhinitis, unspecified.\\n2. ICD Code: J45.909. Description: Unspecified asthma, uncomplicated.\\n3. ICD Code: Z79.899. Description: Other long term (current) drug therapy.\\n\\nThese codes reflect the conditions being treated (allergic rhinitis and possibly asthma) and the ongoing medication management.\"\n",
      "}\n",
      "{\n",
      "  \"age\": \"41\",\n",
      "  \"recommended_treatment\": \"operatiive fixation, nonweightbearing in a splint for 10 days, nonweightbearing in a dynamic brace for 4 weeks, a walking boot for another six weeks with a lift until three months postop when we can get him into a shoe with a 1\\\" lift. He will also need to be on some Lovenox for a week after surgery and then on an aspirin.\",\n",
      "  \"medical_specialty\": \"Orthopedic\",\n",
      "  \"icd_code\": \"Here are the ICD codes that correspond to the treatment and procedures described:\\n\\n1. ICD Code: Z47.1. Description: Aftercare following surgery for fracture.\\n2. ICD Code: Z96.651. Description: Presence of right ankle joint prosthesis (if applicable).\\n3. ICD Code: Z79.01. Description: Long-term (current) use of anticoagulants (for Lovenox).\\n4. ICD Code: Z79.89. Description: Other long-term drug therapy (for aspirin).\\n5. ICD Code: S99.90XA. Description: Unspecified injury of unspecified body region, initial encounter (if applicable for the injury being treated).\\n\\nPlease verify the specific diagnosis and procedure codes with the most current coding guidelines and the patient's specific clinical situation.\"\n",
      "}\n",
      "{\n",
      "  \"age\": \"30\",\n",
      "  \"recommended_treatment\": \"Laparoscopic antecolic antegastric Roux-en-Y gastric bypass with EEA anastomosis.\",\n",
      "  \"medical_specialty\": \"Bariatrics\",\n",
      "  \"icd_code\": \"Here are the ICD codes related to the procedure you specified:\\n\\n1. ICD Code: 436. Description: Roux-en-Y gastric bypass, laparoscopic approach.\\n2. ICD Code: 438. Description: Laparoscopic antecolic antegastric approach.\\n3. ICD Code: 441. Description: Anastomosis of the gastrointestinal tract, end-to-end (EEA).\\n\\nPlease note that specific codes may vary based on the coding system used (ICD-10, etc.), and it's important to consult the latest coding guidelines or a coding specialist for precise coding.\"\n",
      "}\n",
      "{\n",
      "  \"age\": \"50\",\n",
      "  \"recommended_treatment\": \"Neck exploration; tracheostomy; urgent flexible bronchoscopy via tracheostomy site; removal of foreign body, tracheal metallic stent material; dilation distal trachea; placement of #8 Shiley single cannula tracheostomy tube.\",\n",
      "  \"medical_specialty\": \"Cardiovascular or Pulmonary\",\n",
      "  \"icd_code\": \"Here are the ICD codes corresponding to the procedures you listed:\\n\\n1. ICD Code: 0C9B0ZZ. Description: Exploration of neck, open approach.\\n2. ICD Code: 0B110F6. Description: Tracheostomy, external approach, with placement of tracheostomy tube.\\n3. ICD Code: 0B9G0ZZ. Description: Bronchoscopy, flexible, via tracheostomy.\\n4. ICD Code: 0B9G8ZZ. Description: Removal of foreign body from trachea.\\n5. ICD Code: 0B9G3ZZ. Description: Dilation of trachea, via natural or artificial opening.\\n6. ICD Code: 0B110F8. Description: Placement of tracheostomy tube, single cannula.\\n\\nPlease note that the specific codes may vary based on the coding system used (ICD-10-PCS for procedures in the U.S.) and the exact details of the procedures performed. Always verify with the latest coding guidelines and resources.\"\n",
      "}\n",
      "{\n",
      "  \"age\": \"66\",\n",
      "  \"recommended_treatment\": \"He was also given a prescription for 6 months of Flomax and Proscar.\",\n",
      "  \"medical_specialty\": \"Urology\",\n",
      "  \"icd_code\": \"The medications Flomax (tamsulosin) and Proscar (finasteride) are typically prescribed for conditions related to benign prostatic hyperplasia (BPH). Here are the relevant ICD codes:\\n\\n1. ICD Code: N40.0. Description: Benign prostatic hyperplasia with urinary obstruction.\\n2. ICD Code: N40.1. Description: Benign prostatic hyperplasia without urinary obstruction.\\n3. ICD Code: N40.9. Description: Benign prostatic hyperplasia, unspecified.\\n\\nThese codes reflect the conditions for which these medications are commonly prescribed.\"\n",
      "}\n"
     ]
    }
   ],
   "source": [
    "# Start an empty list to store processed data\n",
    "processed_data = []\n",
    "\n",
    "try:\n",
    "    for index, row in transcriptions_df.iterrows():\n",
    "        transcription = row['transcription']\n",
    "        medical_specialty = row['medical_specialty']\n",
    "        \n",
    "        response_data = get_response(transcription)\n",
    "        \n",
    "        recommended_treatment = response_data[\"recommended_treatment\"]\n",
    "        \n",
    "        # Retrieve the ICD codes\n",
    "        ice_code = match_icd_codes(recommended_treatment)\n",
    "        \n",
    "        response_data[\"medical_specialty\"] = medical_specialty.replace('/', 'or')\n",
    "        response_data[\"icd_code\"] = ice_code\n",
    "        \n",
    "        print(json.dumps(response_data, indent=2))\n",
    "\n",
    "        # Append the extracted information as a new row in the list\n",
    "        processed_data.append(response_data)\n",
    "except Exception as e:\n",
    "    print(f\"An error occurred: {e}\")\n"
   ]
  },
  {
   "cell_type": "markdown",
   "id": "a5294d35-08e2-48cf-9f17-47eae8d91b2a",
   "metadata": {},
   "source": [
    "## Solution"
   ]
  },
  {
   "cell_type": "code",
   "execution_count": 11,
   "id": "29868eb3-e0f3-42b3-90f3-d29c9c2ff99d",
   "metadata": {
    "executionCancelledAt": null,
    "executionTime": 54,
    "lastExecutedAt": 1731881396104,
    "lastExecutedByKernel": "d59c4702-b5b6-4e08-b479-1bdd99b50329",
    "lastScheduledRunId": null,
    "lastSuccessfullyExecutedCode": "# Convert the list to a DataFrame\ndf_structured = pd.DataFrame(processed_data)\n\nprint(f\"new structured DataFrame: \\n{df_structured}\")",
    "outputsMetadata": {
     "0": {
      "height": 206,
      "type": "stream"
     }
    }
   },
   "outputs": [
    {
     "name": "stdout",
     "output_type": "stream",
     "text": [
      "new structured DataFrame:\n",
      "+----+-------+-------------------------------------------------------+-----------------------------+-------------------------------------------------------+\n",
      "|    |   age | recommended_treatment                                 | medical_specialty           | icd_code                                              |\n",
      "|----+-------+-------------------------------------------------------+-----------------------------+-------------------------------------------------------|\n",
      "|  0 |    23 | She will try Zyrtec instead of Allegra again. Anot... | Allergy or Immunology       | Here are the relevant ICD codes based on the treat... |\n",
      "|  1 |    41 | operatiive fixation, nonweightbearing in a splint ... | Orthopedic                  | Here are the ICD codes that correspond to the trea... |\n",
      "|  2 |    30 | Laparoscopic antecolic antegastric Roux-en-Y gastr... | Bariatrics                  | Here are the ICD codes related to the procedure yo... |\n",
      "|  3 |    50 | Neck exploration; tracheostomy; urgent flexible br... | Cardiovascular or Pulmonary | Here are the ICD codes corresponding to the proced... |\n",
      "|  4 |    66 | He was also given a prescription for 6 months of F... | Urology                     | The medications Flomax (tamsulosin) and Proscar (f... |\n",
      "+----+-------+-------------------------------------------------------+-----------------------------+-------------------------------------------------------+\n"
     ]
    }
   ],
   "source": [
    "# Convert the list to a DataFrame\n",
    "df_structured = pd.DataFrame(processed_data)\n",
    "\n",
    "# Define the maximum width for the recommended_treatment column\n",
    "max_width = 50\n",
    "\n",
    "# Truncate the text in the columns\n",
    "df_structured['recommended_treatment'] = df_structured['recommended_treatment'].apply(\n",
    "    lambda x: x if len(x) <= max_width else x[:max_width] + '...')\n",
    "\n",
    "df_structured['icd_code'] = df_structured['icd_code'].apply(\n",
    "    lambda x: x if len(x) <= max_width else x[:max_width] + '...')\n",
    "\n",
    "markdown_table = tabulate(df_structured, headers='keys', tablefmt='psql')\n",
    "\n",
    "# Print the new structured DataFrame using tabulate for better formatting\n",
    "print(\"new structured DataFrame:\")\n",
    "print(markdown_table)"
   ]
  }
 ],
 "metadata": {
  "editor": "DataLab",
  "kernelspec": {
   "display_name": ".venv",
   "language": "python",
   "name": "python3"
  },
  "language_info": {
   "codemirror_mode": {
    "name": "ipython",
    "version": 3
   },
   "file_extension": ".py",
   "mimetype": "text/x-python",
   "name": "python",
   "nbconvert_exporter": "python",
   "pygments_lexer": "ipython3",
   "version": "3.10.6"
  }
 },
 "nbformat": 4,
 "nbformat_minor": 5
}
